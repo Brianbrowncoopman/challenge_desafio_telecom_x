{
  "nbformat": 4,
  "nbformat_minor": 0,
  "metadata": {
    "colab": {
      "provenance": [],
      "toc_visible": true,
      "authorship_tag": "ABX9TyOk6Dt4f297wIEgiNpGgXS5",
      "include_colab_link": true
    },
    "kernelspec": {
      "name": "python3",
      "display_name": "Python 3"
    },
    "language_info": {
      "name": "python"
    }
  },
  "cells": [
    {
      "cell_type": "markdown",
      "metadata": {
        "id": "view-in-github",
        "colab_type": "text"
      },
      "source": [
        "<a href=\"https://colab.research.google.com/github/Brianbrowncoopman/challenge_desafio_telecom_x/blob/master/desafio_telecom_X.ipynb\" target=\"_parent\"><img src=\"https://colab.research.google.com/assets/colab-badge.svg\" alt=\"Open In Colab\"/></a>"
      ]
    },
    {
      "cell_type": "markdown",
      "source": [
        "### ***EXTRACCION***\n"
      ],
      "metadata": {
        "id": "pVBZC2iRhZz-"
      }
    },
    {
      "cell_type": "code",
      "source": [],
      "metadata": {
        "id": "ZzUVM-ISh-mj"
      },
      "execution_count": null,
      "outputs": []
    },
    {
      "cell_type": "markdown",
      "source": [
        "### ***Transformacion***"
      ],
      "metadata": {
        "id": "t3-E0nI0hffg"
      }
    },
    {
      "cell_type": "code",
      "source": [],
      "metadata": {
        "id": "IqYA0yOFh_cI"
      },
      "execution_count": null,
      "outputs": []
    },
    {
      "cell_type": "markdown",
      "source": [
        "### ***Carga y analisis***"
      ],
      "metadata": {
        "id": "mRyrRngQhwjv"
      }
    },
    {
      "cell_type": "code",
      "source": [],
      "metadata": {
        "id": "TX8USl-IiAGT"
      },
      "execution_count": null,
      "outputs": []
    },
    {
      "cell_type": "markdown",
      "source": [
        "### ***Informe final***"
      ],
      "metadata": {
        "id": "GRyIg8UTh3_X"
      }
    },
    {
      "cell_type": "code",
      "source": [],
      "metadata": {
        "id": "49kECvTXiAub"
      },
      "execution_count": null,
      "outputs": []
    }
  ]
}